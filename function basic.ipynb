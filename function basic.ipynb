{
 "cells": [
  {
   "cell_type": "code",
   "execution_count": 7,
   "id": "9c86b364",
   "metadata": {},
   "outputs": [],
   "source": [
    "def message():\n",
    "    x=5\n",
    "    y=1\n",
    "    while y<=10:\n",
    "        print(x*y)\n",
    "        y+=1"
   ]
  },
  {
   "cell_type": "code",
   "execution_count": 6,
   "id": "7049aa4a",
   "metadata": {},
   "outputs": [
    {
     "name": "stdout",
     "output_type": "stream",
     "text": [
      "5\n",
      "10\n",
      "15\n",
      "20\n",
      "25\n",
      "30\n",
      "35\n",
      "40\n",
      "45\n",
      "50\n"
     ]
    }
   ],
   "source": [
    "message()"
   ]
  },
  {
   "cell_type": "code",
   "execution_count": 8,
   "id": "3fa87529",
   "metadata": {},
   "outputs": [],
   "source": [
    "def love ():\n",
    "    x=4\n",
    "    for y in range (1,21):\n",
    "        print(x*y)"
   ]
  },
  {
   "cell_type": "code",
   "execution_count": 9,
   "id": "714fbc68",
   "metadata": {},
   "outputs": [
    {
     "name": "stdout",
     "output_type": "stream",
     "text": [
      "4\n",
      "8\n",
      "12\n",
      "16\n",
      "20\n",
      "24\n",
      "28\n",
      "32\n",
      "36\n",
      "40\n",
      "44\n",
      "48\n",
      "52\n",
      "56\n",
      "60\n",
      "64\n",
      "68\n",
      "72\n",
      "76\n",
      "80\n"
     ]
    }
   ],
   "source": [
    "love ()"
   ]
  },
  {
   "cell_type": "code",
   "execution_count": 10,
   "id": "ab454962",
   "metadata": {},
   "outputs": [],
   "source": [
    "def x ():\n",
    "    i=1\n",
    "    while i<=5:\n",
    "        print(i)\n",
    "        i+=1"
   ]
  },
  {
   "cell_type": "code",
   "execution_count": 11,
   "id": "59223f90",
   "metadata": {},
   "outputs": [
    {
     "name": "stdout",
     "output_type": "stream",
     "text": [
      "1\n",
      "2\n",
      "3\n",
      "4\n",
      "5\n"
     ]
    }
   ],
   "source": [
    "x()"
   ]
  },
  {
   "cell_type": "code",
   "execution_count": 14,
   "id": "7225c4e7",
   "metadata": {},
   "outputs": [],
   "source": [
    "def xxx ():\n",
    "    i=1\n",
    "    total=0\n",
    "    while i<=5:\n",
    "        total+=i\n",
    "        print(total)\n",
    "        i+=1"
   ]
  },
  {
   "cell_type": "code",
   "execution_count": 15,
   "id": "c931560a",
   "metadata": {},
   "outputs": [
    {
     "name": "stdout",
     "output_type": "stream",
     "text": [
      "1\n",
      "3\n",
      "6\n",
      "10\n",
      "15\n"
     ]
    }
   ],
   "source": [
    "xxx ()"
   ]
  },
  {
   "cell_type": "code",
   "execution_count": 1,
   "id": "b563fa55",
   "metadata": {},
   "outputs": [],
   "source": [
    "def add ():\n",
    "    a=int(input(\"entre the 1st no:\"))\n",
    "    b=int(input(\"entre the 2nd number:\"))\n",
    "    c=a+b\n",
    "    print(\"additin=\",c)"
   ]
  },
  {
   "cell_type": "code",
   "execution_count": 2,
   "id": "d71fafaa",
   "metadata": {},
   "outputs": [
    {
     "name": "stdout",
     "output_type": "stream",
     "text": [
      "entre the 1st no:5\n",
      "entre the 2nd number:8\n",
      "additin= 13\n"
     ]
    }
   ],
   "source": [
    "add()"
   ]
  },
  {
   "cell_type": "code",
   "execution_count": 3,
   "id": "36fb1671",
   "metadata": {},
   "outputs": [],
   "source": [
    "def love ():\n",
    "    a=99\n",
    "    b=100\n",
    "    c=a+b\n",
    "    print(c)"
   ]
  },
  {
   "cell_type": "code",
   "execution_count": 4,
   "id": "e73dd374",
   "metadata": {},
   "outputs": [
    {
     "name": "stdout",
     "output_type": "stream",
     "text": [
      "199\n"
     ]
    }
   ],
   "source": [
    "love()"
   ]
  },
  {
   "cell_type": "code",
   "execution_count": 1,
   "id": "35a982ec",
   "metadata": {},
   "outputs": [],
   "source": [
    "def add(a,b):\n",
    "    c=a+b\n",
    "    print(\"addition=\",c)\n",
    "    "
   ]
  },
  {
   "cell_type": "code",
   "execution_count": 2,
   "id": "3af6238b",
   "metadata": {},
   "outputs": [
    {
     "name": "stdout",
     "output_type": "stream",
     "text": [
      "addition= 13\n"
     ]
    }
   ],
   "source": [
    "add(5,8)"
   ]
  },
  {
   "cell_type": "code",
   "execution_count": 3,
   "id": "55fc5afc",
   "metadata": {},
   "outputs": [],
   "source": [
    "def love (a,b,c):\n",
    "    z=a+b+c\n",
    "    print(\"addition=\",z)"
   ]
  },
  {
   "cell_type": "code",
   "execution_count": 4,
   "id": "d97000e1",
   "metadata": {},
   "outputs": [
    {
     "name": "stdout",
     "output_type": "stream",
     "text": [
      "addition= 15\n"
     ]
    }
   ],
   "source": [
    "love(4,5,6)"
   ]
  },
  {
   "cell_type": "code",
   "execution_count": 7,
   "id": "d0f4cd71",
   "metadata": {},
   "outputs": [],
   "source": [
    "def add (a,b):\n",
    "    a=int(input(\"entre the number\"))\n",
    "    b=int(input(\"entre the number\"))\n",
    "    c=a+b\n",
    "    print(\"addition\",a,b)"
   ]
  },
  {
   "cell_type": "code",
   "execution_count": 11,
   "id": "84f8ad93",
   "metadata": {},
   "outputs": [
    {
     "name": "stdout",
     "output_type": "stream",
     "text": [
      "entre the number5\n",
      "entre the number8\n",
      "addition 5 8\n"
     ]
    }
   ],
   "source": [
    "add(0,0)"
   ]
  },
  {
   "cell_type": "code",
   "execution_count": 15,
   "id": "de371b0a",
   "metadata": {},
   "outputs": [],
   "source": [
    "def sex (x,y,z):\n",
    "    x=y+z\n",
    "    y=x+z\n",
    "    z=x+y\n",
    "    print(\"addition=\",x*y*z)"
   ]
  },
  {
   "cell_type": "code",
   "execution_count": 16,
   "id": "380042c6",
   "metadata": {},
   "outputs": [
    {
     "name": "stdout",
     "output_type": "stream",
     "text": [
      "addition= 5236\n"
     ]
    }
   ],
   "source": [
    "sex(3,5,6)"
   ]
  },
  {
   "cell_type": "code",
   "execution_count": 17,
   "id": "56b0e30a",
   "metadata": {},
   "outputs": [],
   "source": [
    "def add (x,y):\n",
    "    c=x*y\n",
    "    print(\"multiply of c=\",c)\n",
    "    "
   ]
  },
  {
   "cell_type": "code",
   "execution_count": 18,
   "id": "802ce252",
   "metadata": {},
   "outputs": [
    {
     "name": "stdout",
     "output_type": "stream",
     "text": [
      "multiply of c= 40\n"
     ]
    }
   ],
   "source": [
    "add(5,8)"
   ]
  },
  {
   "cell_type": "code",
   "execution_count": 2,
   "id": "1099a253",
   "metadata": {},
   "outputs": [],
   "source": [
    "# function on without arugment\n",
    "def addition () :\n",
    "    a= int(input(\"entre the 1 st no:\"))\n",
    "    b= int(input('entre the 2st no:'))\n",
    "    c= a+b\n",
    "    print(\"addition=\",c)"
   ]
  },
  {
   "cell_type": "code",
   "execution_count": 3,
   "id": "24cebe8c",
   "metadata": {},
   "outputs": [
    {
     "name": "stdout",
     "output_type": "stream",
     "text": [
      "entre the 1 st no:4\n",
      "entre the 2st no:7\n",
      "addition= 11\n"
     ]
    }
   ],
   "source": [
    "addition()"
   ]
  },
  {
   "cell_type": "code",
   "execution_count": 4,
   "id": "23105441",
   "metadata": {},
   "outputs": [],
   "source": [
    "def add ():\n",
    "    x= int(input(\"entre the 1st number:\"))\n",
    "    y= int(input(\"entre the 2st number:\"))\n",
    "    z= int(input(\"entre the 3st number:\"))\n",
    "    a=x*y*z\n",
    "    print(\"multiply=\",a)"
   ]
  },
  {
   "cell_type": "code",
   "execution_count": 5,
   "id": "445112df",
   "metadata": {},
   "outputs": [
    {
     "name": "stdout",
     "output_type": "stream",
     "text": [
      "entre the 1st number:4\n",
      "entre the 2st number:6\n",
      "entre the 3st number:8\n",
      "multiply= 192\n"
     ]
    }
   ],
   "source": [
    "add()"
   ]
  },
  {
   "cell_type": "code",
   "execution_count": 6,
   "id": "37bc6480",
   "metadata": {},
   "outputs": [],
   "source": [
    "# fuction with arugment\n",
    "def addition(a,b):\n",
    "    c= a+b\n",
    "    print(\"addition=\",c)\n",
    "    "
   ]
  },
  {
   "cell_type": "code",
   "execution_count": 7,
   "id": "436fa1a3",
   "metadata": {},
   "outputs": [
    {
     "name": "stdout",
     "output_type": "stream",
     "text": [
      "addition= 10\n"
     ]
    }
   ],
   "source": [
    "addition(4,6)"
   ]
  },
  {
   "cell_type": "code",
   "execution_count": 30,
   "id": "636d90e3",
   "metadata": {},
   "outputs": [],
   "source": [
    "# without arugment \n",
    "def oddeve ():\n",
    "    a=int(input(\"entre the value\"))\n",
    "    if (a%2==0):\n",
    "        print(\"even\")\n",
    "    else:\n",
    "        print(\"odd\")"
   ]
  },
  {
   "cell_type": "code",
   "execution_count": 28,
   "id": "fdd250cf",
   "metadata": {},
   "outputs": [],
   "source": [
    "# with arugment\n",
    "def love (a):\n",
    "    if(a%2==0):\n",
    "        print(\"even\")\n",
    "    else:\n",
    "        print(\"odd\")"
   ]
  },
  {
   "cell_type": "code",
   "execution_count": 29,
   "id": "d8323f85",
   "metadata": {},
   "outputs": [
    {
     "name": "stdout",
     "output_type": "stream",
     "text": [
      "entre the value6\n",
      "even\n"
     ]
    }
   ],
   "source": [
    "oddeve()"
   ]
  },
  {
   "cell_type": "code",
   "execution_count": 32,
   "id": "bff8c717",
   "metadata": {},
   "outputs": [
    {
     "name": "stdout",
     "output_type": "stream",
     "text": [
      "odd\n"
     ]
    }
   ],
   "source": [
    "love(7)"
   ]
  },
  {
   "cell_type": "code",
   "execution_count": 33,
   "id": "36d793a4",
   "metadata": {},
   "outputs": [],
   "source": [
    "#without arugment\n",
    "def add ():\n",
    "    a=int(input(\"entre the 1st number\"))\n",
    "    b=int(input(\"entre the 2st number\"))\n",
    "    c=a*b\n",
    "    print(\"multiply=\",c)\n",
    "    "
   ]
  },
  {
   "cell_type": "code",
   "execution_count": 34,
   "id": "68acedcf",
   "metadata": {},
   "outputs": [
    {
     "name": "stdout",
     "output_type": "stream",
     "text": [
      "entre the 1st number5\n",
      "entre the 2st number8\n",
      "multiply= 40\n"
     ]
    }
   ],
   "source": [
    "add()"
   ]
  },
  {
   "cell_type": "code",
   "execution_count": 35,
   "id": "8e8e4de1",
   "metadata": {},
   "outputs": [],
   "source": [
    "# with arugment\n",
    "def sex(a,b):\n",
    "    c =a*b\n",
    "    print(\"multiply=\",c)"
   ]
  },
  {
   "cell_type": "code",
   "execution_count": 37,
   "id": "bf9749eb",
   "metadata": {},
   "outputs": [
    {
     "name": "stdout",
     "output_type": "stream",
     "text": [
      "multiply= 45\n"
     ]
    }
   ],
   "source": [
    "sex(5,9)"
   ]
  },
  {
   "cell_type": "code",
   "execution_count": 1,
   "id": "f2a060b2",
   "metadata": {},
   "outputs": [],
   "source": [
    "# no arugment no return\n",
    "def add ():\n",
    "    a=int(input(\"entre the 1st number:\"))\n",
    "    b=int(input(\"entre the 2nd number:\"))\n",
    "    c=a+b\n",
    "    print(\"sum=\",c)\n",
    "    "
   ]
  },
  {
   "cell_type": "code",
   "execution_count": 2,
   "id": "0c627f73",
   "metadata": {},
   "outputs": [
    {
     "name": "stdout",
     "output_type": "stream",
     "text": [
      "entre the 1st number:5\n",
      "entre the 2nd number:9\n",
      "sum= 14\n"
     ]
    }
   ],
   "source": [
    "add()"
   ]
  },
  {
   "cell_type": "code",
   "execution_count": 5,
   "id": "60a97a01",
   "metadata": {},
   "outputs": [],
   "source": [
    "# with augment no return\n",
    "def add (a,b):\n",
    "    c=a+b\n",
    "    print(\"addition=\",c)\n",
    "    a=int(input(\"entre the 1st number:\"))\n",
    "    b=int(input(\"entre the 2nd number\"))\n",
    "    \n"
   ]
  },
  {
   "cell_type": "code",
   "execution_count": 10,
   "id": "9d11f88e",
   "metadata": {},
   "outputs": [
    {
     "data": {
      "text/plain": [
       "11"
      ]
     },
     "execution_count": 10,
     "metadata": {},
     "output_type": "execute_result"
    }
   ],
   "source": [
    "add(5,6)"
   ]
  },
  {
   "cell_type": "code",
   "execution_count": 8,
   "id": "7e82f50e",
   "metadata": {},
   "outputs": [
    {
     "name": "stdout",
     "output_type": "stream",
     "text": [
      "entre the 1st number:5\n",
      "entre the 2nd number:6\n",
      "addition= 11\n"
     ]
    }
   ],
   "source": [
    "def add():\n",
    "    a=int(input(\"entre the 1st number:\"))\n",
    "    b=int(input(\"entre the 2nd number:\"))\n",
    "    c=a+b\n",
    "    return c\n",
    "x=add()\n",
    "print(\"addition=\",x)"
   ]
  },
  {
   "cell_type": "code",
   "execution_count": 9,
   "id": "2432fc65",
   "metadata": {},
   "outputs": [
    {
     "name": "stdout",
     "output_type": "stream",
     "text": [
      "entre the 1t number:5\n",
      "entre the 2nd number8\n",
      "addition= 13\n"
     ]
    }
   ],
   "source": [
    "# with arugment with return\n",
    "def add(a,b):\n",
    "    c=a+b\n",
    "    return c\n",
    "a=int(input(\"entre the 1t number:\"))\n",
    "b=int(input(\"entre the 2nd number\"))\n",
    "z=add(a,b)\n",
    "print(\"addition=\",z)"
   ]
  },
  {
   "cell_type": "code",
   "execution_count": 1,
   "id": "6de68c67",
   "metadata": {},
   "outputs": [],
   "source": [
    "def add(a,b,c=5):\n",
    "    z=a+b+c\n",
    "    print(\"addition=\",z)"
   ]
  },
  {
   "cell_type": "code",
   "execution_count": 2,
   "id": "c7a8d2e0",
   "metadata": {},
   "outputs": [
    {
     "name": "stdout",
     "output_type": "stream",
     "text": [
      "addition= 10\n"
     ]
    }
   ],
   "source": [
    "add(2,3)"
   ]
  },
  {
   "cell_type": "code",
   "execution_count": 3,
   "id": "7784a79c",
   "metadata": {},
   "outputs": [
    {
     "name": "stdout",
     "output_type": "stream",
     "text": [
      "addition= 9\n"
     ]
    }
   ],
   "source": [
    "add(2,3,4)"
   ]
  },
  {
   "cell_type": "code",
   "execution_count": 5,
   "id": "f5e03428",
   "metadata": {},
   "outputs": [],
   "source": [
    "def add1 (a,b=3,c=5):\n",
    "    z=a*b*c/10\n",
    "    print(\"after value=\",z)"
   ]
  },
  {
   "cell_type": "code",
   "execution_count": 6,
   "id": "9b1c80db",
   "metadata": {},
   "outputs": [
    {
     "name": "stdout",
     "output_type": "stream",
     "text": [
      "after value= 4.5\n"
     ]
    }
   ],
   "source": [
    "add1(3)"
   ]
  },
  {
   "cell_type": "code",
   "execution_count": 8,
   "id": "00fe74f9",
   "metadata": {},
   "outputs": [
    {
     "name": "stdout",
     "output_type": "stream",
     "text": [
      "after value= 6.0\n"
     ]
    }
   ],
   "source": [
    "add1(3,4)"
   ]
  },
  {
   "cell_type": "code",
   "execution_count": 9,
   "id": "0a5777ce",
   "metadata": {},
   "outputs": [
    {
     "name": "stdout",
     "output_type": "stream",
     "text": [
      "after value= 2.4\n"
     ]
    }
   ],
   "source": [
    "add1(2,3,4)"
   ]
  },
  {
   "cell_type": "code",
   "execution_count": 19,
   "id": "b6eb47b5",
   "metadata": {},
   "outputs": [],
   "source": [
    "def add3(a=2,b=3,c=6):\n",
    "    z=a*b+(b+c)-b*c\n",
    "    print(\"after number=\",z)"
   ]
  },
  {
   "cell_type": "code",
   "execution_count": 20,
   "id": "ad98c64e",
   "metadata": {},
   "outputs": [
    {
     "name": "stdout",
     "output_type": "stream",
     "text": [
      "after number= -3\n"
     ]
    }
   ],
   "source": [
    "add3 ()"
   ]
  },
  {
   "cell_type": "code",
   "execution_count": 26,
   "id": "35a9bbc2",
   "metadata": {},
   "outputs": [],
   "source": [
    "def add4(a,b=5,c=8):\n",
    "    z=(a+b+c)%10\n",
    "    print(\"after value=\",z)"
   ]
  },
  {
   "cell_type": "code",
   "execution_count": 27,
   "id": "5a62d3e2",
   "metadata": {},
   "outputs": [
    {
     "name": "stdout",
     "output_type": "stream",
     "text": [
      "after value= 6\n"
     ]
    }
   ],
   "source": [
    "add4 (3)"
   ]
  },
  {
   "cell_type": "code",
   "execution_count": 28,
   "id": "4fda912d",
   "metadata": {},
   "outputs": [
    {
     "name": "stdout",
     "output_type": "stream",
     "text": [
      "after value= 0\n"
     ]
    }
   ],
   "source": [
    "add4 (8,4)"
   ]
  },
  {
   "cell_type": "code",
   "execution_count": 29,
   "id": "20f2a872",
   "metadata": {},
   "outputs": [
    {
     "name": "stdout",
     "output_type": "stream",
     "text": [
      "after value= 0\n"
     ]
    }
   ],
   "source": [
    "add4(5,6,9)"
   ]
  },
  {
   "cell_type": "code",
   "execution_count": 31,
   "id": "f2c0d2cb",
   "metadata": {},
   "outputs": [],
   "source": [
    "def add5 (a,b,c=5):\n",
    "    z=(a+b+c)//10\n",
    "    print(\"after value=\",z)"
   ]
  },
  {
   "cell_type": "code",
   "execution_count": 32,
   "id": "2b1af448",
   "metadata": {},
   "outputs": [
    {
     "name": "stdout",
     "output_type": "stream",
     "text": [
      "after value= 1\n"
     ]
    }
   ],
   "source": [
    "add5(4,6)"
   ]
  },
  {
   "cell_type": "code",
   "execution_count": 33,
   "id": "348dbd2e",
   "metadata": {},
   "outputs": [
    {
     "name": "stdout",
     "output_type": "stream",
     "text": [
      "after value= 1\n"
     ]
    }
   ],
   "source": [
    "add5 (2,3)"
   ]
  },
  {
   "cell_type": "code",
   "execution_count": 34,
   "id": "d1018f8d",
   "metadata": {},
   "outputs": [
    {
     "name": "stdout",
     "output_type": "stream",
     "text": [
      "after value= 6\n"
     ]
    }
   ],
   "source": [
    "add5(11,22,34)"
   ]
  },
  {
   "cell_type": "code",
   "execution_count": 2,
   "id": "e41d3eba",
   "metadata": {},
   "outputs": [
    {
     "name": "stdout",
     "output_type": "stream",
     "text": [
      "1\n",
      "2\n"
     ]
    }
   ],
   "source": [
    "#break and continou\n",
    "i=1\n",
    "while(i<=5):\n",
    "    if(i==3):\n",
    "        break\n",
    "    print(i)\n",
    "    i+=1"
   ]
  },
  {
   "cell_type": "code",
   "execution_count": 4,
   "id": "21ae3440",
   "metadata": {},
   "outputs": [
    {
     "name": "stdout",
     "output_type": "stream",
     "text": [
      "1\n",
      "2\n",
      "4\n",
      "5\n",
      "6\n"
     ]
    }
   ],
   "source": [
    "#continue\n",
    "i=0\n",
    "while(i<=5):\n",
    "    i+=1\n",
    "    if(i==3):\n",
    "        continue\n",
    "    print(i)\n",
    "        "
   ]
  },
  {
   "cell_type": "code",
   "execution_count": 2,
   "id": "7a9a04c7",
   "metadata": {},
   "outputs": [
    {
     "name": "stdout",
     "output_type": "stream",
     "text": [
      "1\n",
      "2\n",
      "3\n"
     ]
    }
   ],
   "source": [
    "# break\n",
    "i=1\n",
    "while (i<=10):\n",
    "    if(i==4):\n",
    "        break\n",
    "    print(i)\n",
    "    i+=1"
   ]
  },
  {
   "cell_type": "code",
   "execution_count": 2,
   "id": "697c4243",
   "metadata": {},
   "outputs": [
    {
     "name": "stdout",
     "output_type": "stream",
     "text": [
      "1\n",
      "2\n",
      "3\n",
      "4\n",
      "5\n",
      "6\n",
      "8\n",
      "9\n",
      "10\n",
      "11\n"
     ]
    }
   ],
   "source": [
    "#continue\n",
    "i=0\n",
    "while (i<=10):\n",
    "    i+=1\n",
    "    if(i==7):\n",
    "        continue\n",
    "    print(i)\n",
    "        "
   ]
  },
  {
   "cell_type": "code",
   "execution_count": 2,
   "id": "42d60704",
   "metadata": {},
   "outputs": [
    {
     "name": "stdout",
     "output_type": "stream",
     "text": [
      "15\n"
     ]
    }
   ],
   "source": [
    "x=lambda a:a+10\n",
    "print(x(5))"
   ]
  },
  {
   "cell_type": "code",
   "execution_count": 3,
   "id": "1fc2d9a6",
   "metadata": {},
   "outputs": [
    {
     "name": "stdout",
     "output_type": "stream",
     "text": [
      "25\n"
     ]
    }
   ],
   "source": [
    "x=lambda a:a-15\n",
    "print(x(40))"
   ]
  },
  {
   "cell_type": "code",
   "execution_count": 4,
   "id": "fdf54f4c",
   "metadata": {},
   "outputs": [
    {
     "name": "stdout",
     "output_type": "stream",
     "text": [
      "240\n"
     ]
    }
   ],
   "source": [
    "y=lambda a,b:a*b\n",
    "print(y(20,12))"
   ]
  },
  {
   "cell_type": "code",
   "execution_count": 6,
   "id": "931a9f81",
   "metadata": {},
   "outputs": [
    {
     "name": "stdout",
     "output_type": "stream",
     "text": [
      "60\n"
     ]
    }
   ],
   "source": [
    "z=lambda a,b,c:a*b*c\n",
    "print(z(3,4,5))"
   ]
  },
  {
   "cell_type": "code",
   "execution_count": 7,
   "id": "70d5372b",
   "metadata": {},
   "outputs": [
    {
     "name": "stdout",
     "output_type": "stream",
     "text": [
      "560\n"
     ]
    }
   ],
   "source": [
    "x=lambda a,b,c,d:a*b*c*d\n",
    "print(x(2,5,7,8))"
   ]
  },
  {
   "cell_type": "code",
   "execution_count": 10,
   "id": "4b682f63",
   "metadata": {},
   "outputs": [
    {
     "ename": "SyntaxError",
     "evalue": "invalid syntax (857147353.py, line 2)",
     "output_type": "error",
     "traceback": [
      "\u001b[1;36m  Input \u001b[1;32mIn [10]\u001b[1;36m\u001b[0m\n\u001b[1;33m    adults=list(filter(lambda>18,x))\u001b[0m\n\u001b[1;37m                             ^\u001b[0m\n\u001b[1;31mSyntaxError\u001b[0m\u001b[1;31m:\u001b[0m invalid syntax\n"
     ]
    }
   ],
   "source": [
    "x=[5,6,7,8,9,10,23,45]\n",
    "adults=list(filter(lambda>18,x))\n",
    "for x in adults:\n",
    "    print(x)"
   ]
  },
  {
   "cell_type": "code",
   "execution_count": null,
   "id": "c238fb4c",
   "metadata": {},
   "outputs": [],
   "source": []
  },
  {
   "cell_type": "code",
   "execution_count": null,
   "id": "7d164a69",
   "metadata": {},
   "outputs": [],
   "source": []
  }
 ],
 "metadata": {
  "kernelspec": {
   "display_name": "Python 3 (ipykernel)",
   "language": "python",
   "name": "python3"
  },
  "language_info": {
   "codemirror_mode": {
    "name": "ipython",
    "version": 3
   },
   "file_extension": ".py",
   "mimetype": "text/x-python",
   "name": "python",
   "nbconvert_exporter": "python",
   "pygments_lexer": "ipython3",
   "version": "3.9.12"
  }
 },
 "nbformat": 4,
 "nbformat_minor": 5
}
